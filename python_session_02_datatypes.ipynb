{
 "cells": [
  {
   "cell_type": "markdown",
   "id": "7bc6aad4-4696-4259-af3a-bfb692479f96",
   "metadata": {},
   "source": [
    "**variables**"
   ]
  },
  {
   "cell_type": "markdown",
   "id": "c4aab3b4-1066-4123-b619-a0d8168c8476",
   "metadata": {},
   "source": [
    "- variables are used to store the values\n",
    "\n",
    "- variables can change their values\n",
    "\n",
    "- varyyyy: varying"
   ]
  },
  {
   "cell_type": "code",
   "execution_count": 1,
   "id": "36e3cfa1-a197-4fc9-9c34-03b556413097",
   "metadata": {},
   "outputs": [
    {
     "data": {
      "text/plain": [
       "100"
      ]
     },
     "execution_count": 1,
     "metadata": {},
     "output_type": "execute_result"
    }
   ],
   "source": [
    "number=100\n",
    "number\n",
    "\n",
    "# 100 is stored in a variable called number"
   ]
  },
  {
   "cell_type": "code",
   "execution_count": 2,
   "id": "fb7403e9-a111-43c2-967a-d500c82bdc85",
   "metadata": {},
   "outputs": [
    {
     "data": {
      "text/plain": [
       "200"
      ]
     },
     "execution_count": 2,
     "metadata": {},
     "output_type": "execute_result"
    }
   ],
   "source": [
    "number=200\n",
    "number\n",
    "\n",
    "# latest value of 200 is stored in a variable called number"
   ]
  },
  {
   "cell_type": "markdown",
   "id": "cb423a0d-a335-449d-ba0a-18858e96aa48",
   "metadata": {},
   "source": [
    "sailaja is learning python\n",
    "\n",
    "code mode is used to run a code "
   ]
  },
  {
   "cell_type": "markdown",
   "id": "95b614ed-9262-4149-8527-13e81d0cb226",
   "metadata": {},
   "source": [
    "\n",
    "type sa\n",
    "\n",
    "enter tab\n",
    "\n",
    "you can see the names which are starting with sa\n",
    "    "
   ]
  },
  {
   "cell_type": "code",
   "execution_count": 3,
   "id": "497b1803-509c-4aa5-bb21-086f146b705e",
   "metadata": {},
   "outputs": [
    {
     "data": {
      "text/plain": [
       "200"
      ]
     },
     "execution_count": 3,
     "metadata": {},
     "output_type": "execute_result"
    }
   ],
   "source": [
    "NUMBER=200\n",
    "NUMBER"
   ]
  },
  {
   "cell_type": "code",
   "execution_count": 4,
   "id": "fa35adab-63a9-4da0-8a82-d8d961791b32",
   "metadata": {},
   "outputs": [
    {
     "data": {
      "text/plain": [
       "300"
      ]
     },
     "execution_count": 4,
     "metadata": {},
     "output_type": "execute_result"
    }
   ],
   "source": [
    "NUMber=300\n",
    "NUMber"
   ]
  },
  {
   "cell_type": "code",
   "execution_count": 5,
   "id": "86d73a39-90cd-4623-8f63-85f1be2f2b1a",
   "metadata": {},
   "outputs": [
    {
     "data": {
      "text/plain": [
       "400"
      ]
     },
     "execution_count": 5,
     "metadata": {},
     "output_type": "execute_result"
    }
   ],
   "source": [
    "number123=400\n",
    "number123"
   ]
  },
  {
   "cell_type": "code",
   "execution_count": 6,
   "id": "41ad1fb6-51c6-4f1a-bed0-873028b2cd1b",
   "metadata": {},
   "outputs": [
    {
     "ename": "SyntaxError",
     "evalue": "invalid decimal literal (140469312.py, line 1)",
     "output_type": "error",
     "traceback": [
      "\u001b[1;36m  Cell \u001b[1;32mIn[6], line 1\u001b[1;36m\u001b[0m\n\u001b[1;33m    123number=500\u001b[0m\n\u001b[1;37m      ^\u001b[0m\n\u001b[1;31mSyntaxError\u001b[0m\u001b[1;31m:\u001b[0m invalid decimal literal\n"
     ]
    }
   ],
   "source": [
    "123number=500\n",
    "123number\n",
    "\n",
    "# variables does not have numbers as prefix\n",
    "# variable should not start with numbers"
   ]
  },
  {
   "cell_type": "code",
   "execution_count": 7,
   "id": "2893bd08-c43c-461c-9227-852dd3a24ec7",
   "metadata": {},
   "outputs": [
    {
     "ename": "SyntaxError",
     "evalue": "cannot assign to expression here. Maybe you meant '==' instead of '='? (2910871131.py, line 1)",
     "output_type": "error",
     "traceback": [
      "\u001b[1;36m  Cell \u001b[1;32mIn[7], line 1\u001b[1;36m\u001b[0m\n\u001b[1;33m    number*one=500\u001b[0m\n\u001b[1;37m    ^\u001b[0m\n\u001b[1;31mSyntaxError\u001b[0m\u001b[1;31m:\u001b[0m cannot assign to expression here. Maybe you meant '==' instead of '='?\n"
     ]
    }
   ],
   "source": [
    "number*one=500\n",
    "number*one\n",
    "\n",
    "# variables does not have spl characters"
   ]
  },
  {
   "cell_type": "code",
   "execution_count": 9,
   "id": "5e0237c4-1097-46c0-a7bc-b4122de57787",
   "metadata": {},
   "outputs": [
    {
     "data": {
      "text/plain": [
       "600"
      ]
     },
     "execution_count": 9,
     "metadata": {},
     "output_type": "execute_result"
    }
   ],
   "source": [
    "number_1=600\n",
    "number_1\n",
    "\n",
    "# variables can have underscores\n",
    "\n"
   ]
  },
  {
   "cell_type": "code",
   "execution_count": 12,
   "id": "063b8e26-2658-4461-a8b5-fbe0c15c110a",
   "metadata": {},
   "outputs": [
    {
     "data": {
      "text/plain": [
       "900"
      ]
     },
     "execution_count": 12,
     "metadata": {},
     "output_type": "execute_result"
    }
   ],
   "source": [
    "_= 900\n",
    "_\n",
    "\n",
    "# only underscore can represent as variables"
   ]
  },
  {
   "cell_type": "markdown",
   "id": "35e48c06-8e6f-430f-8d9a-ec3dd17229d3",
   "metadata": {},
   "source": [
    "- variables are case sensitive\n",
    "\n",
    "- variables can represent as capital letters\n",
    "\n",
    "- variables can represent as small letters\n",
    "\n",
    "- variables can have both combinations\n",
    "\n",
    "- python will consider latest value\n",
    "\n",
    "- variables does not start with numbers\n",
    "\n",
    "- variables can have numbers at the last\n",
    "\n",
    "- variables doesnot contain any special characters except underscore\n",
    "\n",
    "- variables doesnot contain any space between the letters  i.e., number one\n",
    "\n",
    "- only underscore can use as variables\n",
    "\n",
    "- keywords or reserved words will not use as variable: if, else"
   ]
  },
  {
   "cell_type": "code",
   "execution_count": 14,
   "id": "72f1c5a9-767e-4e90-9149-8f2193b5acea",
   "metadata": {},
   "outputs": [
    {
     "data": {
      "text/plain": [
       "200"
      ]
     },
     "execution_count": 14,
     "metadata": {},
     "output_type": "execute_result"
    }
   ],
   "source": [
    "number_123_one=200\n",
    "number_123_one"
   ]
  },
  {
   "cell_type": "code",
   "execution_count": 15,
   "id": "89069151-be9b-4753-8079-f67359fdaf56",
   "metadata": {},
   "outputs": [
    {
     "data": {
      "text/plain": [
       "400"
      ]
     },
     "execution_count": 15,
     "metadata": {},
     "output_type": "execute_result"
    }
   ],
   "source": [
    "number1=200\n",
    "number1=300\n",
    "number1=400\n",
    "number1"
   ]
  },
  {
   "cell_type": "code",
   "execution_count": null,
   "id": "b75cb03b-fe9a-4159-aac0-d419f3d93716",
   "metadata": {},
   "outputs": [],
   "source": []
  },
  {
   "cell_type": "code",
   "execution_count": null,
   "id": "e378a76d-197b-4f4c-a5cc-5d369673ed57",
   "metadata": {},
   "outputs": [],
   "source": []
  },
  {
   "cell_type": "code",
   "execution_count": null,
   "id": "dc158a50-12e1-4f3a-89b2-e1477e9c8cb2",
   "metadata": {},
   "outputs": [],
   "source": []
  },
  {
   "cell_type": "markdown",
   "id": "fa5eccdb-b2a3-4d88-94f7-b77bda1c0e6c",
   "metadata": {},
   "source": [
    "**data types**\n",
    "\n",
    "- In python we have many data types \n",
    "\n",
    "    - integer\n",
    "\n",
    "    - float\n",
    "\n",
    "    - string\n",
    "\n",
    "    - boolean"
   ]
  },
  {
   "cell_type": "markdown",
   "id": "85c9af19-70eb-4b2d-9590-5296027ba7a0",
   "metadata": {},
   "source": [
    "**INTEGER**\n",
    "\n",
    "- In python no need to mention a data type like c\n",
    "\n",
    "- it will consider the data type automatically"
   ]
  },
  {
   "cell_type": "code",
   "execution_count": null,
   "id": "ad7127df-8673-4287-bcfc-938492e3d457",
   "metadata": {},
   "outputs": [],
   "source": [
    "number = 100\n",
    "# in order to check the type of a variable we will use\n",
    "# in built function calles as type\n"
   ]
  },
  {
   "cell_type": "code",
   "execution_count": 16,
   "id": "09496bb2-ffda-4bd8-abe0-def0448109d8",
   "metadata": {},
   "outputs": [
    {
     "data": {
      "text/plain": [
       "int"
      ]
     },
     "execution_count": 16,
     "metadata": {},
     "output_type": "execute_result"
    }
   ],
   "source": [
    "type(number)"
   ]
  },
  {
   "cell_type": "code",
   "execution_count": 17,
   "id": "7cce0543-0df3-4f27-8f62-1a50f38d1e04",
   "metadata": {},
   "outputs": [
    {
     "data": {
      "text/plain": [
       "int"
      ]
     },
     "execution_count": 17,
     "metadata": {},
     "output_type": "execute_result"
    }
   ],
   "source": [
    "type(100)"
   ]
  },
  {
   "cell_type": "code",
   "execution_count": 18,
   "id": "42774e3c-01fd-4c88-8b22-f21f20da91af",
   "metadata": {},
   "outputs": [
    {
     "data": {
      "text/plain": [
       "float"
      ]
     },
     "execution_count": 18,
     "metadata": {},
     "output_type": "execute_result"
    }
   ],
   "source": [
    "type(100.5)"
   ]
  },
  {
   "cell_type": "markdown",
   "id": "e7aad2db-c82d-4d5c-9578-09e78c0a80b4",
   "metadata": {},
   "source": [
    "- In maths we have different types of representations available\n",
    "\n",
    "- The following number systems are\n",
    "\n",
    "    - Binary\n",
    "\n",
    "    - Octa\n",
    "\n",
    "    - Decimal\n",
    "\n",
    "    - Hexa"
   ]
  },
  {
   "cell_type": "markdown",
   "id": "a28a2a50-aa6a-4470-a3bd-4cd7147d0a43",
   "metadata": {},
   "source": [
    "**Binary**\n",
    "\n",
    "- binary has bi which indicates two\n",
    "\n",
    "- we have total 0 to 9 digits to represent any number\n",
    "\n",
    "- from there we have to take only first two digits i.e.; 0 and 1\n",
    "\n",
    "- example :0b110, 0B00110\n",
    "\n",
    "- wrong representation is; 0b002"
   ]
  },
  {
   "cell_type": "code",
   "execution_count": 21,
   "id": "076a29a7-ff3d-4d9b-b608-c13a00226b4a",
   "metadata": {},
   "outputs": [
    {
     "data": {
      "text/plain": [
       "7"
      ]
     },
     "execution_count": 21,
     "metadata": {},
     "output_type": "execute_result"
    }
   ],
   "source": [
    "num=0b111\n",
    "num"
   ]
  },
  {
   "cell_type": "code",
   "execution_count": 20,
   "id": "3b5a710e-a59d-4a8b-a4e5-187632e4af5f",
   "metadata": {},
   "outputs": [
    {
     "data": {
      "text/plain": [
       "9"
      ]
     },
     "execution_count": 20,
     "metadata": {},
     "output_type": "execute_result"
    }
   ],
   "source": [
    "0b1001"
   ]
  },
  {
   "cell_type": "code",
   "execution_count": 22,
   "id": "06fbe5a8-61ca-41fa-b35d-b9e34b4944f9",
   "metadata": {},
   "outputs": [
    {
     "data": {
      "text/plain": [
       "6805"
      ]
     },
     "execution_count": 22,
     "metadata": {},
     "output_type": "execute_result"
    }
   ],
   "source": [
    "0b1101010010101"
   ]
  },
  {
   "cell_type": "code",
   "execution_count": 23,
   "id": "7c773432-a811-437e-8cca-a484a980578a",
   "metadata": {},
   "outputs": [
    {
     "ename": "NameError",
     "evalue": "name 'b00' is not defined",
     "output_type": "error",
     "traceback": [
      "\u001b[1;31m---------------------------------------------------------------------------\u001b[0m",
      "\u001b[1;31mNameError\u001b[0m                                 Traceback (most recent call last)",
      "Cell \u001b[1;32mIn[23], line 1\u001b[0m\n\u001b[1;32m----> 1\u001b[0m b00\n",
      "\u001b[1;31mNameError\u001b[0m: name 'b00' is not defined"
     ]
    }
   ],
   "source": [
    "b00"
   ]
  },
  {
   "cell_type": "code",
   "execution_count": 24,
   "id": "4b6d2a33-e94f-4e1d-b859-f23c626adc31",
   "metadata": {},
   "outputs": [
    {
     "ename": "SyntaxError",
     "evalue": "invalid binary literal (3279687064.py, line 1)",
     "output_type": "error",
     "traceback": [
      "\u001b[1;36m  Cell \u001b[1;32mIn[24], line 1\u001b[1;36m\u001b[0m\n\u001b[1;33m    0b\u001b[0m\n\u001b[1;37m     ^\u001b[0m\n\u001b[1;31mSyntaxError\u001b[0m\u001b[1;31m:\u001b[0m invalid binary literal\n"
     ]
    }
   ],
   "source": [
    "0b"
   ]
  },
  {
   "cell_type": "code",
   "execution_count": 25,
   "id": "69e80cca-b75c-4bca-8c0c-0ea7527e499a",
   "metadata": {},
   "outputs": [
    {
     "data": {
      "text/plain": [
       "512"
      ]
     },
     "execution_count": 25,
     "metadata": {},
     "output_type": "execute_result"
    }
   ],
   "source": [
    "0b1000000000"
   ]
  },
  {
   "cell_type": "markdown",
   "id": "2e763482-4c35-4676-b698-86b4f7e4367f",
   "metadata": {},
   "source": [
    "#digital\n",
    "\n",
    "4   2   1\n",
    "\n",
    "0   0   0      0\n",
    "\n",
    "0   0   1      1\n",
    "\n",
    "0   1   0      2\n",
    "\n",
    "0   1   1      3 \n",
    "\n",
    "1   0   0      4\n",
    "\n",
    "1   0   1      5 \n",
    "\n",
    "1   1   0      6\n",
    "\n",
    "1   1   1      7"
   ]
  },
  {
   "cell_type": "markdown",
   "id": "ff14d80c-5cc0-4e97-907e-b56eb7028aa2",
   "metadata": {},
   "source": [
    "**Octa**\n",
    "\n",
    "- Octa means 8\n",
    "\n",
    "- we have total 0 to 9 digits to represent any number 0,1,2,3,4,5,6,7,8,9\n",
    "\n",
    "- from there we will take only starting 8 digits i.e.;0 to 7\n",
    "\n",
    "- example :0o123 , 0o567 , 0o10006\n",
    "\n",
    "- wrong representation is : 0o786 7 & 6 are octa but 8 doesnt include in octa"
   ]
  },
  {
   "cell_type": "markdown",
   "id": "7d291e4c-cebf-4654-a06e-e808992a3604",
   "metadata": {},
   "source": [
    "**Representation**\n",
    "\n",
    "0  0  0  0    0\n",
    "\n",
    "0  0  0  1    1\n",
    "\n",
    "0  0  0  2    2\n",
    "  \n",
    "0  0  0  3    3\n",
    "\n",
    "0  0  0  4    4\n",
    "\n",
    "0  0  0  5    5\n",
    "\n",
    "0  0  0  6    6\n",
    "\n",
    "0  0  0  7    7\n",
    "\n",
    "0  0  1  0    8\n",
    "\n",
    "0  0  1  1    9\n",
    "\n",
    "0  0  1  2    10\n",
    "\n",
    "0  0  1  3    11\n",
    "\n",
    "0  0  1  4    12\n",
    "\n",
    "0  0  1  5    13\n",
    "\n",
    "0  0  1  6    14\n",
    "\n",
    "\n",
    "\n",
    "0  0"
   ]
  },
  {
   "cell_type": "code",
   "execution_count": 1,
   "id": "673add5c-6df2-4ed2-8628-57f5764b3968",
   "metadata": {},
   "outputs": [
    {
     "ename": "SyntaxError",
     "evalue": "invalid digit '8' in octal literal (2267749663.py, line 1)",
     "output_type": "error",
     "traceback": [
      "\u001b[1;36m  Cell \u001b[1;32mIn[1], line 1\u001b[1;36m\u001b[0m\n\u001b[1;33m    0o785\u001b[0m\n\u001b[1;37m       ^\u001b[0m\n\u001b[1;31mSyntaxError\u001b[0m\u001b[1;31m:\u001b[0m invalid digit '8' in octal literal\n"
     ]
    }
   ],
   "source": [
    "0o785"
   ]
  },
  {
   "cell_type": "markdown",
   "id": "0a7b64f9-4957-4744-a60d-1af7f88bf35d",
   "metadata": {},
   "source": [
    "- A good developer will understand the errors easily\n",
    "\n",
    "- almost we will get 20 types\n",
    "\n",
    "- we will focus both on output as well s errors\n",
    " "
   ]
  },
  {
   "cell_type": "code",
   "execution_count": 2,
   "id": "e9f245e0-ee16-4288-8ff0-28811ce809a4",
   "metadata": {},
   "outputs": [
    {
     "data": {
      "text/plain": [
       "83"
      ]
     },
     "execution_count": 2,
     "metadata": {},
     "output_type": "execute_result"
    }
   ],
   "source": [
    "0o123"
   ]
  },
  {
   "cell_type": "code",
   "execution_count": 3,
   "id": "55936837-6976-443a-bfd2-303c9f17741e",
   "metadata": {},
   "outputs": [
    {
     "data": {
      "text/plain": [
       "302"
      ]
     },
     "execution_count": 3,
     "metadata": {},
     "output_type": "execute_result"
    }
   ],
   "source": [
    "0O456"
   ]
  },
  {
   "cell_type": "markdown",
   "id": "bc72406a-18a4-444d-91d7-3e7a84b5287c",
   "metadata": {},
   "source": [
    "**Hexa**\n",
    "\n",
    "- hexa means 16\n",
    "\n",
    "- we have total 0 to 9 digits to represent any number\n",
    "\n",
    "- after 9 we will use A to F\n",
    "  \r\n",
    "- example :exa 0x123 , 0xABC , 0x9adB0\n",
    "- \r\n",
    "wrong represenion : oxeg, 0xarcwe"
   ]
  },
  {
   "cell_type": "code",
   "execution_count": 4,
   "id": "eb5bc428-76d9-4f40-8869-3fbbb084bb54",
   "metadata": {},
   "outputs": [
    {
     "data": {
      "text/plain": [
       "2748"
      ]
     },
     "execution_count": 4,
     "metadata": {},
     "output_type": "execute_result"
    }
   ],
   "source": [
    "0xabc"
   ]
  },
  {
   "cell_type": "code",
   "execution_count": 5,
   "id": "3e763c9c-7c45-4d15-8b27-f44780801950",
   "metadata": {},
   "outputs": [
    {
     "data": {
      "text/plain": [
       "15"
      ]
     },
     "execution_count": 5,
     "metadata": {},
     "output_type": "execute_result"
    }
   ],
   "source": [
    "0xf"
   ]
  },
  {
   "cell_type": "markdown",
   "id": "9191fccc-e394-4adf-827b-74966d4a01c5",
   "metadata": {},
   "source": [
    "**Float Values**"
   ]
  },
  {
   "cell_type": "code",
   "execution_count": 6,
   "id": "f0318b0f-f842-4c56-929f-857d6752940f",
   "metadata": {},
   "outputs": [
    {
     "data": {
      "text/plain": [
       "float"
      ]
     },
     "execution_count": 6,
     "metadata": {},
     "output_type": "execute_result"
    }
   ],
   "source": [
    "num=10.5\n",
    "type(num)"
   ]
  },
  {
   "cell_type": "code",
   "execution_count": 7,
   "id": "b861ee2d-1fee-425e-aafa-681679155d8a",
   "metadata": {},
   "outputs": [
    {
     "data": {
      "text/plain": [
       "(int, float)"
      ]
     },
     "execution_count": 7,
     "metadata": {},
     "output_type": "execute_result"
    }
   ],
   "source": [
    "type(10) , type(10.5)"
   ]
  },
  {
   "cell_type": "code",
   "execution_count": 8,
   "id": "6961664f-1f4f-413a-b6d7-f05bc71b3ccf",
   "metadata": {},
   "outputs": [
    {
     "data": {
      "text/plain": [
       "float"
      ]
     },
     "execution_count": 8,
     "metadata": {},
     "output_type": "execute_result"
    }
   ],
   "source": [
    "type(1/2)"
   ]
  },
  {
   "cell_type": "code",
   "execution_count": 9,
   "id": "b9911ca2-f35e-4cf9-be0c-c5d7bb16dbfd",
   "metadata": {},
   "outputs": [
    {
     "data": {
      "text/plain": [
       "(100.0, 1000.0, 10000.0)"
      ]
     },
     "execution_count": 9,
     "metadata": {},
     "output_type": "execute_result"
    }
   ],
   "source": [
    "10e1, 10e2, 10e3"
   ]
  },
  {
   "cell_type": "code",
   "execution_count": 10,
   "id": "cdfab8db-f226-4d43-aa55-2b5d58ceb820",
   "metadata": {},
   "outputs": [
    {
     "data": {
      "text/plain": [
       "100.0"
      ]
     },
     "execution_count": 10,
     "metadata": {},
     "output_type": "execute_result"
    }
   ],
   "source": [
    "10e1"
   ]
  },
  {
   "cell_type": "code",
   "execution_count": 11,
   "id": "a63ebac8-6dc4-464e-8468-6ae6e3c86f3b",
   "metadata": {},
   "outputs": [
    {
     "data": {
      "text/plain": [
       "1000.0"
      ]
     },
     "execution_count": 11,
     "metadata": {},
     "output_type": "execute_result"
    }
   ],
   "source": [
    "10e2"
   ]
  },
  {
   "cell_type": "code",
   "execution_count": 12,
   "id": "c9c436d1-20f9-450a-b44a-267862408b3e",
   "metadata": {},
   "outputs": [
    {
     "data": {
      "text/plain": [
       "10000.0"
      ]
     },
     "execution_count": 12,
     "metadata": {},
     "output_type": "execute_result"
    }
   ],
   "source": [
    "10e3"
   ]
  },
  {
   "cell_type": "code",
   "execution_count": 13,
   "id": "0af72be4-7814-4165-943c-f79aa8229c7f",
   "metadata": {},
   "outputs": [
    {
     "data": {
      "text/plain": [
       "100000.0"
      ]
     },
     "execution_count": 13,
     "metadata": {},
     "output_type": "execute_result"
    }
   ],
   "source": [
    "10e4"
   ]
  },
  {
   "cell_type": "code",
   "execution_count": 14,
   "id": "dfeae913-a72e-437e-ba8f-0c619e8e95bb",
   "metadata": {},
   "outputs": [
    {
     "data": {
      "text/plain": [
       "20"
      ]
     },
     "execution_count": 14,
     "metadata": {},
     "output_type": "execute_result"
    }
   ],
   "source": [
    "10\n",
    "20"
   ]
  },
  {
   "cell_type": "markdown",
   "id": "5b72a4e3-90c9-4767-bdba-6732ca40a7dd",
   "metadata": {},
   "source": [
    "10 , 20"
   ]
  },
  {
   "cell_type": "code",
   "execution_count": 15,
   "id": "750b1037-0957-4ec7-a205-b537c885d31b",
   "metadata": {},
   "outputs": [
    {
     "data": {
      "text/plain": [
       "(10, 20)"
      ]
     },
     "execution_count": 15,
     "metadata": {},
     "output_type": "execute_result"
    }
   ],
   "source": [
    "10,20"
   ]
  },
  {
   "cell_type": "code",
   "execution_count": 16,
   "id": "8d98fcce-e064-45e1-b921-fede17dc6a4b",
   "metadata": {},
   "outputs": [
    {
     "name": "stdout",
     "output_type": "stream",
     "text": [
      "10\n",
      "20\n"
     ]
    }
   ],
   "source": [
    "print(10)\n",
    "print(20)"
   ]
  },
  {
   "cell_type": "markdown",
   "id": "5d4b6d7d-78bc-4298-8e82-1af331bc77a4",
   "metadata": {},
   "source": [
    "IN jupyter notebok by default last value will print\n",
    "\n",
    "if you want to print all the answers we have to apply print statement"
   ]
  },
  {
   "cell_type": "code",
   "execution_count": 17,
   "id": "ecfba78e-646d-444e-aed3-928ff31f38ca",
   "metadata": {},
   "outputs": [
    {
     "data": {
      "text/plain": [
       "100000.0"
      ]
     },
     "execution_count": 17,
     "metadata": {},
     "output_type": "execute_result"
    }
   ],
   "source": [
    "10e1 \n",
    "10e2\n",
    "10e3\n",
    "10e4"
   ]
  },
  {
   "cell_type": "code",
   "execution_count": 19,
   "id": "13101b6e-42f6-427e-a86c-06418da90eed",
   "metadata": {},
   "outputs": [
    {
     "data": {
      "text/plain": [
       "(100.0, 1000.0, 10000.0, 100000.0)"
      ]
     },
     "execution_count": 19,
     "metadata": {},
     "output_type": "execute_result"
    }
   ],
   "source": [
    "10e1, 10e2 ,10e3, 10e4"
   ]
  },
  {
   "cell_type": "code",
   "execution_count": 20,
   "id": "aab5933a-6a6b-4792-80a8-b98fa7542c37",
   "metadata": {},
   "outputs": [
    {
     "name": "stdout",
     "output_type": "stream",
     "text": [
      "100.0\n",
      "1000.0\n",
      "10000.0\n",
      "100000.0\n"
     ]
    }
   ],
   "source": [
    "print(10e1) \n",
    "print(10e2)\n",
    "print(10e3)\n",
    "print(10e4)"
   ]
  },
  {
   "cell_type": "code",
   "execution_count": 21,
   "id": "f679cf8c-0a9e-411c-a179-245762483269",
   "metadata": {},
   "outputs": [
    {
     "data": {
      "text/plain": [
       "100.0"
      ]
     },
     "execution_count": 21,
     "metadata": {},
     "output_type": "execute_result"
    }
   ],
   "source": [
    "10e+1"
   ]
  },
  {
   "cell_type": "code",
   "execution_count": 22,
   "id": "c1bb15ee-2960-44e4-8e03-19d735c0188d",
   "metadata": {},
   "outputs": [
    {
     "data": {
      "text/plain": [
       "1000.0"
      ]
     },
     "execution_count": 22,
     "metadata": {},
     "output_type": "execute_result"
    }
   ],
   "source": [
    "10e+2"
   ]
  },
  {
   "cell_type": "code",
   "execution_count": 23,
   "id": "81c88c54-07c3-4782-8592-0f055381b7d4",
   "metadata": {},
   "outputs": [
    {
     "data": {
      "text/plain": [
       "0.1"
      ]
     },
     "execution_count": 23,
     "metadata": {},
     "output_type": "execute_result"
    }
   ],
   "source": [
    "10e-2"
   ]
  },
  {
   "cell_type": "code",
   "execution_count": 24,
   "id": "db0a82fd-9807-4146-a566-0d0f0d278fd5",
   "metadata": {},
   "outputs": [
    {
     "data": {
      "text/plain": [
       "1000.0"
      ]
     },
     "execution_count": 24,
     "metadata": {},
     "output_type": "execute_result"
    }
   ],
   "source": [
    "10E2"
   ]
  },
  {
   "cell_type": "code",
   "execution_count": 25,
   "id": "61efb77a-148c-40f7-a2c8-e0d661bef37c",
   "metadata": {},
   "outputs": [
    {
     "data": {
      "text/plain": [
       "1.0"
      ]
     },
     "execution_count": 25,
     "metadata": {},
     "output_type": "execute_result"
    }
   ],
   "source": [
    "10e-1"
   ]
  },
  {
   "cell_type": "code",
   "execution_count": 26,
   "id": "6a7d79f9-6f9f-4c07-b669-ef9cdd253ffe",
   "metadata": {},
   "outputs": [
    {
     "data": {
      "text/plain": [
       "0.1"
      ]
     },
     "execution_count": 26,
     "metadata": {},
     "output_type": "execute_result"
    }
   ],
   "source": [
    "10e-2"
   ]
  },
  {
   "cell_type": "code",
   "execution_count": 27,
   "id": "bdefc274-0f7b-4e57-85ab-60988a8aa0c4",
   "metadata": {},
   "outputs": [
    {
     "data": {
      "text/plain": [
       "0.01"
      ]
     },
     "execution_count": 27,
     "metadata": {},
     "output_type": "execute_result"
    }
   ],
   "source": [
    "10e-3"
   ]
  },
  {
   "cell_type": "code",
   "execution_count": 28,
   "id": "9b7f2c12-c1a7-4777-bdb5-84e9b6372352",
   "metadata": {},
   "outputs": [
    {
     "data": {
      "text/plain": [
       "0.001"
      ]
     },
     "execution_count": 28,
     "metadata": {},
     "output_type": "execute_result"
    }
   ],
   "source": [
    "10e-4"
   ]
  },
  {
   "cell_type": "code",
   "execution_count": 29,
   "id": "05c00330-6716-437d-8ec6-e4f7a58688a0",
   "metadata": {},
   "outputs": [
    {
     "name": "stdout",
     "output_type": "stream",
     "text": [
      "1.0\n",
      "0.1\n",
      "0.01\n"
     ]
    }
   ],
   "source": [
    "print(10e-1)\n",
    "print(10e-2)\n",
    "print(10e-3)"
   ]
  },
  {
   "cell_type": "markdown",
   "id": "df7e7a23-2da8-46d2-838b-0cf6496258f4",
   "metadata": {},
   "source": [
    "- In machine learning we often see the values in exponential format\n",
    "\n",
    "- in some cases we need to search for zero value\n",
    "\n",
    "- In ML with python we rarely see exact an answer 0.0\n",
    "\n",
    "- instead of 0.0 it will display as example : 1.2345e-17"
   ]
  },
  {
   "cell_type": "code",
   "execution_count": 30,
   "id": "0b69d198-4b2c-40d7-8d8a-12012b129c2e",
   "metadata": {},
   "outputs": [
    {
     "data": {
      "text/plain": [
       "1.2345e-17"
      ]
     },
     "execution_count": 30,
     "metadata": {},
     "output_type": "execute_result"
    }
   ],
   "source": [
    "1.2345e-17"
   ]
  },
  {
   "cell_type": "markdown",
   "id": "f14571cb-8f94-4410-a9ce-b7aadcaf461e",
   "metadata": {},
   "source": [
    "**Strings**"
   ]
  },
  {
   "cell_type": "markdown",
   "id": "225eafbd-05b0-4474-acaa-59313b9f1985",
   "metadata": {},
   "source": [
    "- strings represents english characters generally\n",
    "\n",
    "- strings represents with quotes\n",
    "\n",
    "    - single quotes\n",
    "\n",
    "    - double quotes\n",
    "\n",
    "    - triple quotes"
   ]
  },
  {
   "cell_type": "code",
   "execution_count": 37,
   "id": "6ed37797-04d2-4c82-bd1c-1bf30f912101",
   "metadata": {},
   "outputs": [
    {
     "data": {
      "text/plain": [
       "'sailaja'"
      ]
     },
     "execution_count": 37,
     "metadata": {},
     "output_type": "execute_result"
    }
   ],
   "source": [
    "str1 ='sailaja'\n",
    "str1"
   ]
  },
  {
   "cell_type": "code",
   "execution_count": 38,
   "id": "87530944-9dc9-4758-8d06-408d5d5213aa",
   "metadata": {},
   "outputs": [
    {
     "data": {
      "text/plain": [
       "str"
      ]
     },
     "execution_count": 38,
     "metadata": {},
     "output_type": "execute_result"
    }
   ],
   "source": [
    "type(str1)"
   ]
  },
  {
   "cell_type": "code",
   "execution_count": 34,
   "id": "19351d29-11d5-4a86-9a31-60d0d4b62588",
   "metadata": {},
   "outputs": [
    {
     "data": {
      "text/plain": [
       "'sailaja'"
      ]
     },
     "execution_count": 34,
     "metadata": {},
     "output_type": "execute_result"
    }
   ],
   "source": [
    "str2=\"sailaja\"\n",
    "str2"
   ]
  },
  {
   "cell_type": "markdown",
   "id": "39b4dfa6-9cd8-4efc-8d8e-5cd8794c47da",
   "metadata": {},
   "source": [
    "- We can represent in any way but python will give in single quotes only"
   ]
  },
  {
   "cell_type": "code",
   "execution_count": 39,
   "id": "b7392dfd-d631-4f74-926c-de6fdeab4e91",
   "metadata": {},
   "outputs": [
    {
     "name": "stdout",
     "output_type": "stream",
     "text": [
      "sailaja\n"
     ]
    }
   ],
   "source": [
    "print(str1)"
   ]
  },
  {
   "cell_type": "code",
   "execution_count": 36,
   "id": "2da21d1c-8a60-4402-96cc-883c2229ee00",
   "metadata": {},
   "outputs": [
    {
     "name": "stdout",
     "output_type": "stream",
     "text": [
      "sailaja\n"
     ]
    }
   ],
   "source": [
    "print(str2)"
   ]
  },
  {
   "cell_type": "markdown",
   "id": "52c391cc-f3ed-44bb-937b-409fef572b3b",
   "metadata": {},
   "source": [
    "- When we apply print on string , it will display without quotes"
   ]
  },
  {
   "cell_type": "code",
   "execution_count": 41,
   "id": "4ccc8b2c-75fc-403a-9839-d8ed514ff81a",
   "metadata": {},
   "outputs": [
    {
     "data": {
      "text/plain": [
       "str"
      ]
     },
     "execution_count": 41,
     "metadata": {},
     "output_type": "execute_result"
    }
   ],
   "source": [
    "str3='abc123'\n",
    "type(str3)"
   ]
  },
  {
   "cell_type": "code",
   "execution_count": 44,
   "id": "2bb5442a-2711-4e80-98bf-146c4a9c6020",
   "metadata": {},
   "outputs": [
    {
     "data": {
      "text/plain": [
       "(int, float, int, str)"
      ]
     },
     "execution_count": 44,
     "metadata": {},
     "output_type": "execute_result"
    }
   ],
   "source": [
    "type(10) , type(10.5) , type(123) , type('apple')"
   ]
  },
  {
   "cell_type": "markdown",
   "id": "28883de1-2bd6-4a22-ab82-82385e6b323c",
   "metadata": {},
   "source": [
    "- Any data type or any value is provided by quotes means\n",
    "\n",
    "- It becomes a string only\n",
    "\n",
    "- String always in red colour\n",
    "\n",
    "- variables always in black colour\n",
    "\n",
    "- keywords or numbers always in green colour"
   ]
  },
  {
   "cell_type": "code",
   "execution_count": 49,
   "id": "e3c86f08-f2dd-4674-b2ae-ab38d047ebf0",
   "metadata": {},
   "outputs": [
    {
     "name": "stdout",
     "output_type": "stream",
     "text": [
      "I like 'python'\n"
     ]
    }
   ],
   "source": [
    "str4=\"I like 'python'\"\n",
    "print(str4)"
   ]
  },
  {
   "cell_type": "code",
   "execution_count": 50,
   "id": "5b063ba6-3f8c-4d06-b0e8-ffacc08c4922",
   "metadata": {},
   "outputs": [
    {
     "name": "stdout",
     "output_type": "stream",
     "text": [
      "I like \"python\"\n"
     ]
    }
   ],
   "source": [
    "str5='I like \"python\"'\n",
    "print(str5)"
   ]
  },
  {
   "cell_type": "markdown",
   "id": "2ceb605c-b16e-4d41-970c-43bddffec2ec",
   "metadata": {},
   "source": [
    "- If we want to highlight any word\n",
    "\n",
    "- Represent entire string in single quotes , highlighted word in double quotes and vicev ersa"
   ]
  },
  {
   "cell_type": "code",
   "execution_count": 51,
   "id": "cbd3eb0e-0471-4c8e-b349-8153f4732137",
   "metadata": {},
   "outputs": [
    {
     "ename": "SyntaxError",
     "evalue": "unterminated string literal (detected at line 1) (4192490924.py, line 1)",
     "output_type": "error",
     "traceback": [
      "\u001b[1;36m  Cell \u001b[1;32mIn[51], line 1\u001b[1;36m\u001b[0m\n\u001b[1;33m    str1='hai\u001b[0m\n\u001b[1;37m         ^\u001b[0m\n\u001b[1;31mSyntaxError\u001b[0m\u001b[1;31m:\u001b[0m unterminated string literal (detected at line 1)\n"
     ]
    }
   ],
   "source": [
    "str1='hai\n",
    "    how are you'"
   ]
  },
  {
   "cell_type": "code",
   "execution_count": 2,
   "id": "89243aab-e2b3-4457-8de1-f4b9f6823787",
   "metadata": {},
   "outputs": [
    {
     "ename": "IndentationError",
     "evalue": "unexpected indent (597370868.py, line 2)",
     "output_type": "error",
     "traceback": [
      "\u001b[1;36m  Cell \u001b[1;32mIn[2], line 2\u001b[1;36m\u001b[0m\n\u001b[1;33m    \" how are you \"\u001b[0m\n\u001b[1;37m    ^\u001b[0m\n\u001b[1;31mIndentationError\u001b[0m\u001b[1;31m:\u001b[0m unexpected indent\n"
     ]
    }
   ],
   "source": [
    "str2=\" hai\n",
    "    how are you \""
   ]
  },
  {
   "cell_type": "code",
   "execution_count": 4,
   "id": "54cddbff-1e12-4971-91f5-3a0893e9cdcb",
   "metadata": {},
   "outputs": [
    {
     "data": {
      "text/plain": [
       "' hai\\n    how are you\\n    im good'"
      ]
     },
     "execution_count": 4,
     "metadata": {},
     "output_type": "execute_result"
    }
   ],
   "source": [
    "str1=\"\"\" hai\n",
    "    how are you\n",
    "    im good\"\"\"\n",
    "str1"
   ]
  },
  {
   "cell_type": "code",
   "execution_count": 7,
   "id": "5c357a98-48c9-4f39-a8ed-5460d67d5574",
   "metadata": {},
   "outputs": [
    {
     "name": "stdout",
     "output_type": "stream",
     "text": [
      " hai\n",
      "    how are you\n",
      "    im good\n"
     ]
    }
   ],
   "source": [
    "print(str1)"
   ]
  },
  {
   "cell_type": "markdown",
   "id": "407593a5-0697-4dc5-8969-321f388a41db",
   "metadata": {},
   "source": [
    "- triple quotes is used for writing multiline comments\n",
    "\n",
    "- this is called as **DOCSSTRING**\n",
    "\n",
    "- In order to write a story in jupyter notebook we have mark down mode\n",
    "\n",
    "- but other platforms like vscode pycharm dont have markdown mode\n",
    "\n",
    "- then how can we write a story : by using triple quotes\n",
    "\n",
    "- if any person writing something using triple quotes, which indicates that user is trying to convey the information\n",
    "\n",
    "- This process is called docstring"
   ]
  },
  {
   "cell_type": "markdown",
   "id": "a1064055-9b2a-400f-aa5f-3152aa87b641",
   "metadata": {},
   "source": [
    "**BOOLEAN**"
   ]
  },
  {
   "cell_type": "markdown",
   "id": "e8c4c954-3825-4bac-88f5-632768290f10",
   "metadata": {},
   "source": [
    "- computer takes the value in binary format\n",
    "\n",
    "- computer gives the answer in boolean format\n",
    "\n",
    "    - True\n",
    "\n",
    "    - False\n",
    "  \n",
    "- True indicates 1\n",
    " \n",
    "- False indicates 0\n"
   ]
  },
  {
   "cell_type": "code",
   "execution_count": 55,
   "id": "021e0ce9-b09d-4701-a051-d6a3e1f342af",
   "metadata": {},
   "outputs": [
    {
     "data": {
      "text/plain": [
       "bool"
      ]
     },
     "execution_count": 55,
     "metadata": {},
     "output_type": "execute_result"
    }
   ],
   "source": [
    "val=True\n",
    "type(val)"
   ]
  },
  {
   "cell_type": "code",
   "execution_count": 56,
   "id": "e9f5c31a-ad0a-4d97-afcd-a057eebcfa05",
   "metadata": {},
   "outputs": [
    {
     "data": {
      "text/plain": [
       "bool"
      ]
     },
     "execution_count": 56,
     "metadata": {},
     "output_type": "execute_result"
    }
   ],
   "source": [
    "val1=False\n",
    "type(val1)"
   ]
  },
  {
   "cell_type": "code",
   "execution_count": 58,
   "id": "b39d62cf-e095-4cf3-8e16-d3359b2f47fc",
   "metadata": {},
   "outputs": [
    {
     "data": {
      "text/plain": [
       "(str, bool)"
      ]
     },
     "execution_count": 58,
     "metadata": {},
     "output_type": "execute_result"
    }
   ],
   "source": [
    "true='True'\n",
    "TRUE=True\n",
    "type(true), type(TRUE)"
   ]
  },
  {
   "cell_type": "code",
   "execution_count": 60,
   "id": "ad8214ed-1db6-4ed4-a8ed-b5fa05dffa2b",
   "metadata": {},
   "outputs": [
    {
     "data": {
      "text/plain": [
       "(int, float, str, bool)"
      ]
     },
     "execution_count": 60,
     "metadata": {},
     "output_type": "execute_result"
    }
   ],
   "source": [
    "type(10), type(10.5), type('apple'), type(True)"
   ]
  },
  {
   "cell_type": "code",
   "execution_count": 63,
   "id": "f46f2d62-a3f0-4d3c-814e-ed4746a900c9",
   "metadata": {},
   "outputs": [
    {
     "ename": "TypeError",
     "evalue": "type.__new__() argument 1 must be str, not int",
     "output_type": "error",
     "traceback": [
      "\u001b[1;31m---------------------------------------------------------------------------\u001b[0m",
      "\u001b[1;31mTypeError\u001b[0m                                 Traceback (most recent call last)",
      "Cell \u001b[1;32mIn[63], line 4\u001b[0m\n\u001b[0;32m      2\u001b[0m b\u001b[38;5;241m=\u001b[39m\u001b[38;5;241m10.5\u001b[39m\n\u001b[0;32m      3\u001b[0m c\u001b[38;5;241m=\u001b[39m\u001b[38;5;28;01mTrue\u001b[39;00m\n\u001b[1;32m----> 4\u001b[0m \u001b[38;5;28mtype\u001b[39m(a,b,c)\n",
      "\u001b[1;31mTypeError\u001b[0m: type.__new__() argument 1 must be str, not int"
     ]
    }
   ],
   "source": [
    "a=10\n",
    "b=10.5\n",
    "c=True\n",
    "type(a,b,c)"
   ]
  },
  {
   "cell_type": "code",
   "execution_count": 64,
   "id": "8b4bbb1b-3ac9-4a6e-b894-23acd1c70bfa",
   "metadata": {},
   "outputs": [
    {
     "data": {
      "text/plain": [
       "bool"
      ]
     },
     "execution_count": 64,
     "metadata": {},
     "output_type": "execute_result"
    }
   ],
   "source": [
    "a=10\n",
    "b=10.5\n",
    "c=True\n",
    "type(a)\n",
    "type(b)\n",
    "type(c)"
   ]
  },
  {
   "cell_type": "code",
   "execution_count": 65,
   "id": "b334d34e-9ff5-401c-bcd8-cd14d6659761",
   "metadata": {},
   "outputs": [
    {
     "data": {
      "text/plain": [
       "(int, float, bool)"
      ]
     },
     "execution_count": 65,
     "metadata": {},
     "output_type": "execute_result"
    }
   ],
   "source": [
    "a=10\n",
    "b=10.5\n",
    "c=True\n",
    "type(a),type(b),type(c)"
   ]
  },
  {
   "cell_type": "code",
   "execution_count": null,
   "id": "a8fa9ad4-69bf-4b48-9b76-67e1d8be7412",
   "metadata": {},
   "outputs": [],
   "source": []
  }
 ],
 "metadata": {
  "kernelspec": {
   "display_name": "Python 3 (ipykernel)",
   "language": "python",
   "name": "python3"
  },
  "language_info": {
   "codemirror_mode": {
    "name": "ipython",
    "version": 3
   },
   "file_extension": ".py",
   "mimetype": "text/x-python",
   "name": "python",
   "nbconvert_exporter": "python",
   "pygments_lexer": "ipython3",
   "version": "3.12.4"
  }
 },
 "nbformat": 4,
 "nbformat_minor": 5
}
