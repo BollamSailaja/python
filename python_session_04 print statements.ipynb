{
 "cells": [
  {
   "cell_type": "markdown",
   "id": "3cce2755-10bc-438b-b00c-a6ad589df7bb",
   "metadata": {},
   "source": [
    "**Print statements**"
   ]
  },
  {
   "cell_type": "markdown",
   "id": "2e218d26-0033-4102-b562-87c7318e2c69",
   "metadata": {},
   "source": [
    "- print is an inbuilt function, to see the answers\n",
    "\n",
    "- In jupyter notebook we can see latest value without using print\n",
    "\n",
    "- if you want to see all the values we need to use print\n",
    "\n",
    "- In VScode , pycharm there is no mark down mode option\n",
    "\n",
    "- if we want to see any answer we need to use print statement"
   ]
  },
  {
   "cell_type": "code",
   "execution_count": 1,
   "id": "92c270be-0eb1-4e83-9dce-f067294dd7a0",
   "metadata": {},
   "outputs": [
    {
     "data": {
      "text/plain": [
       "200"
      ]
     },
     "execution_count": 1,
     "metadata": {},
     "output_type": "execute_result"
    }
   ],
   "source": [
    "num1=100\n",
    "num2=200\n",
    "num1\n",
    "num2\n"
   ]
  },
  {
   "cell_type": "code",
   "execution_count": 2,
   "id": "d2fd9356-c3d5-4b27-a8c3-168891259eb7",
   "metadata": {},
   "outputs": [
    {
     "name": "stdout",
     "output_type": "stream",
     "text": [
      "100\n",
      "200\n"
     ]
    }
   ],
   "source": [
    "print(num1)\n",
    "print(num2)"
   ]
  },
  {
   "cell_type": "code",
   "execution_count": 10,
   "id": "ffae5866-9fd3-4382-a5a4-9c633cf09b3c",
   "metadata": {},
   "outputs": [
    {
     "name": "stdout",
     "output_type": "stream",
     "text": [
      "100 200\n",
      "10 20 30\n",
      "hello bye\n",
      "hello bye 100 200 10 20 30\n"
     ]
    }
   ],
   "source": [
    "print(num1,num2)\n",
    "print(10,20,30)\n",
    "print('hello',\"bye\")\n",
    "print('hello','bye',num1, num2, 10,20,30)"
   ]
  },
  {
   "cell_type": "code",
   "execution_count": 4,
   "id": "9cd4e3f6-4ad9-4a3d-95bf-8c0e5e5633e8",
   "metadata": {},
   "outputs": [
    {
     "data": {
      "text/plain": [
       "(100, 200)"
      ]
     },
     "execution_count": 4,
     "metadata": {},
     "output_type": "execute_result"
    }
   ],
   "source": [
    "num1, num2"
   ]
  },
  {
   "cell_type": "code",
   "execution_count": 5,
   "id": "60dcaa70-1585-4bca-bc81-425134d06881",
   "metadata": {},
   "outputs": [
    {
     "name": "stdout",
     "output_type": "stream",
     "text": [
      "10 20 30\n"
     ]
    }
   ],
   "source": [
    "print(10,20,30)"
   ]
  },
  {
   "cell_type": "code",
   "execution_count": 12,
   "id": "cbe4a909-271c-4a0f-a45b-3b882d1bc568",
   "metadata": {},
   "outputs": [
    {
     "name": "stdout",
     "output_type": "stream",
     "text": [
      "the addition of 100 and 200 is 300\n"
     ]
    }
   ],
   "source": [
    "a=100\n",
    "b=200\n",
    "c=a+b\n",
    "print('the addition of',a,'and',b,'is',c)"
   ]
  },
  {
   "cell_type": "code",
   "execution_count": 15,
   "id": "090a2ba0-a4d3-4289-853b-40939b12bd6a",
   "metadata": {},
   "outputs": [
    {
     "name": "stdout",
     "output_type": "stream",
     "text": [
      "my name is sailaja I'm 30 years old and I'm from suryapet\n"
     ]
    }
   ],
   "source": [
    "name='sailaja'\n",
    "city='suryapet'\n",
    "age=30\n",
    "print('my name is',name,\"I'm\",age,'years old',\"and I'm from\",city)"
   ]
  },
  {
   "cell_type": "markdown",
   "id": "56a856b0-95f6-4ef6-a143-73fed3b19073",
   "metadata": {},
   "source": [
    "**Format Method**"
   ]
  },
  {
   "cell_type": "code",
   "execution_count": 16,
   "id": "7d6692b2-beb9-483a-9b36-2f778e23c9aa",
   "metadata": {},
   "outputs": [
    {
     "name": "stdout",
     "output_type": "stream",
     "text": [
      "the addition of 10,20 is 30\n",
      "the addition of {},{} is {}\n",
      "the addition of 100,200 is 300\n"
     ]
    }
   ],
   "source": [
    "a=100\n",
    "b=200\n",
    "c=a+b\n",
    "# how you want to write the print\n",
    "# the addition of 10, 20 is 30\n",
    "print(\"the addition of 10,20 is 30\")\n",
    "print(\"the addition of {},{} is {}\")\n",
    "print(\"the addition of {},{} is {}\".format(a,b,c))"
   ]
  },
  {
   "cell_type": "code",
   "execution_count": 18,
   "id": "a0a2f0f6-64b3-4810-add4-d0e9a59a78d5",
   "metadata": {},
   "outputs": [
    {
     "name": "stdout",
     "output_type": "stream",
     "text": [
      "my name is sailaja, I'm 30 years old and I'm from suryapet\n",
      "my name is {}, I'm {} years old and I'm from {}\n",
      "my name is sailaja, I'm 30 years old and I'm from suryapet\n"
     ]
    }
   ],
   "source": [
    "print(\"my name is sailaja, I'm 30 years old and I'm from suryapet\")\n",
    "print(\"my name is {}, I'm {} years old and I'm from {}\")\n",
    "print(\"my name is {}, I'm {} years old and I'm from {}\".format(name, age, city))"
   ]
  },
  {
   "cell_type": "code",
   "execution_count": 19,
   "id": "318c262d-e8e5-49e7-a46f-5482984e3060",
   "metadata": {},
   "outputs": [
    {
     "name": "stdout",
     "output_type": "stream",
     "text": [
      "the addition of a and b is add\n",
      "the addition of 10 and 20 is 30\n",
      "the subtraction of a and b is sub\n",
      "the subtraction of 10 and 20 is -10\n",
      "the multiplication of a and b is mul\n",
      "the multiplication of 10 and 20 is 200\n",
      "the division of a and b is div\n",
      "the division of 10 and 20 is 0.5\n"
     ]
    }
   ],
   "source": [
    "a=10\n",
    "b=20\n",
    "add=a+b\n",
    "sub=a-b\n",
    "mul=a*b\n",
    "div=a/b\n",
    "print('the addition of a and b is add')\n",
    "print('the addition of {} and {} is {}'.format(a,b,add))\n",
    "print('the subtraction of a and b is sub')\n",
    "print('the subtraction of {} and {} is {}'.format(a,b,sub))\n",
    "print('the multiplication of a and b is mul')\n",
    "print('the multiplication of {} and {} is {}'.format(a,b,mul))\n",
    "print('the division of a and b is div')\n",
    "print('the division of {} and {} is {}'.format(a,b,div))"
   ]
  },
  {
   "cell_type": "markdown",
   "id": "2918c6fe-6371-4a79-a912-6957086de1ac",
   "metadata": {},
   "source": [
    "**F string method**"
   ]
  },
  {
   "cell_type": "code",
   "execution_count": 21,
   "id": "a6069eb3-c4f1-4eec-a7a0-18c134c87bce",
   "metadata": {},
   "outputs": [
    {
     "name": "stdout",
     "output_type": "stream",
     "text": [
      "the addition of 10 and 20 is 30\n",
      "the addition of a and b is c\n",
      "the addition of {a} and {b} is {c}\n",
      "the addition of 10 and 20 is 30\n"
     ]
    }
   ],
   "source": [
    "a=10\n",
    "b=20\n",
    "c=a+b\n",
    "print('the addition of 10 and 20 is 30')\n",
    "print('the addition of a and b is c')\n",
    "print('the addition of {a} and {b} is {c}')\n",
    "print(f'the addition of {a} and {b} is {c}')"
   ]
  },
  {
   "cell_type": "code",
   "execution_count": 31,
   "id": "f52b7940-e235-4a82-807f-57aa38ce67fc",
   "metadata": {},
   "outputs": [
    {
     "name": "stdout",
     "output_type": "stream",
     "text": [
      "my name is sailaja, I'm 30 years old and I'm from suryapet\n"
     ]
    }
   ],
   "source": [
    "print(f\"my name is {name}, I'm {age} years old and I'm from {city}\")"
   ]
  },
  {
   "cell_type": "code",
   "execution_count": 2,
   "id": "2ed1a21b-65f0-4b2d-a3f9-ac37dfd9b86f",
   "metadata": {},
   "outputs": [
    {
     "name": "stdout",
     "output_type": "stream",
     "text": [
      "my name is sailaja I'm 30 years old and I'm from suryapet \n"
     ]
    }
   ],
   "source": [
    "name='sailaja'\n",
    "city='suryapet'\n",
    "age=30\n",
    "print(f\"my name is {name} I'm {age} years old and I'm from {city} \")"
   ]
  },
  {
   "cell_type": "code",
   "execution_count": 3,
   "id": "fd5b56cb-8273-4f4f-b499-9f526e01916c",
   "metadata": {},
   "outputs": [
    {
     "name": "stdout",
     "output_type": "stream",
     "text": [
      "the addition of 100 and 200 is 300\n",
      "the subtraction of 100 and 200 is -100\n",
      "the multiplication of 100 and 200 is 20000\n",
      "the division of 100 and 200 is 0.5\n"
     ]
    }
   ],
   "source": [
    "a=100\n",
    "b=200\n",
    "add=a+b\n",
    "sub=a-b\n",
    "mul=a*b\n",
    "div=a/b\n",
    "print(f'the addition of {a} and {b} is {add}')\n",
    "print(f'the subtraction of {a} and {b} is {sub}')\n",
    "print(f'the multiplication of {a} and {b} is {mul}')\n",
    "print(f'the division of {a} and {b} is {div}')"
   ]
  },
  {
   "cell_type": "code",
   "execution_count": null,
   "id": "26207c30-e5a4-4a1f-ba2d-0eb63f8bf31b",
   "metadata": {},
   "outputs": [],
   "source": [
    "print(10)\n",
    "print(20)\n"
   ]
  },
  {
   "cell_type": "markdown",
   "id": "0210ae65-ce01-459e-a261-c1d57b112052",
   "metadata": {},
   "source": [
    "**ENd Operator**"
   ]
  },
  {
   "cell_type": "code",
   "execution_count": 33,
   "id": "848246d3-0160-4d53-bb89-f5257bf08f18",
   "metadata": {},
   "outputs": [
    {
     "name": "stdout",
     "output_type": "stream",
     "text": [
      "10\n",
      "20\n"
     ]
    }
   ],
   "source": [
    "print(10)\n",
    "print(20)\n",
    "#using two print statements\n",
    "# we need to write 10,20"
   ]
  },
  {
   "cell_type": "code",
   "execution_count": 39,
   "id": "75e76a70-2d07-425e-a171-1f8d0e03a8e9",
   "metadata": {},
   "outputs": [
    {
     "name": "stdout",
     "output_type": "stream",
     "text": [
      "10 & 20\n"
     ]
    }
   ],
   "source": [
    "print(10, end=' & ')\n",
    "print(20)"
   ]
  },
  {
   "cell_type": "code",
   "execution_count": 44,
   "id": "6e8b3a41-b477-4836-93b8-a661b5b8af94",
   "metadata": {},
   "outputs": [
    {
     "name": "stdout",
     "output_type": "stream",
     "text": [
      "10 , 20 & 30\n"
     ]
    }
   ],
   "source": [
    "print(10, end=' , ')\n",
    "print(20, end=' & ')\n",
    "print(30)"
   ]
  },
  {
   "cell_type": "code",
   "execution_count": null,
   "id": "8398b455-6cf8-49ec-a748-e13d0ccfb97e",
   "metadata": {},
   "outputs": [],
   "source": [
    "# using one print statement\n",
    "#10---->20---->30"
   ]
  },
  {
   "cell_type": "markdown",
   "id": "3636c47a-3473-4ffc-9622-96e00355f448",
   "metadata": {},
   "source": [
    "**Separator**"
   ]
  },
  {
   "cell_type": "code",
   "execution_count": 47,
   "id": "7d830846-adc4-465b-8cac-e529be32cb15",
   "metadata": {},
   "outputs": [
    {
     "name": "stdout",
     "output_type": "stream",
     "text": [
      "10--->20--->30\n",
      "10&20&30\n"
     ]
    }
   ],
   "source": [
    "print(10,20,30,sep='--->')\n",
    "# separating all the values inside print statement\n",
    "print(10,20,30,sep='&')"
   ]
  },
  {
   "cell_type": "code",
   "execution_count": 51,
   "id": "e3754f3d-5f55-4e9e-b639-c6171ed4ebd6",
   "metadata": {},
   "outputs": [
    {
     "name": "stdout",
     "output_type": "stream",
     "text": [
      "10 + 20 = 30.\n"
     ]
    }
   ],
   "source": [
    "print(10, end=' + ')\n",
    "print(20, end=' = ')\n",
    "print(30,'.',sep='')"
   ]
  },
  {
   "cell_type": "code",
   "execution_count": 53,
   "id": "60106f09-2c79-4c0b-b348-df8fe07c078a",
   "metadata": {},
   "outputs": [
    {
     "name": "stdout",
     "output_type": "stream",
     "text": [
      "10+20=30\n"
     ]
    }
   ],
   "source": [
    "print(10,20,sep='+',end='=')\n",
    "# separating all the values inside print statement\n",
    "# end will join multiple print ststement values\n",
    "print(30)"
   ]
  },
  {
   "cell_type": "markdown",
   "id": "4460241c-bd2e-476b-b604-b9bf8bd1dcc3",
   "metadata": {},
   "source": [
    "- Format Method\n",
    "\n",
    "- F String Method\n",
    "\n",
    "- Sep\n",
    "\n",
    "- End"
   ]
  },
  {
   "cell_type": "code",
   "execution_count": null,
   "id": "668a9af8-e65f-4211-b120-8c491e558c65",
   "metadata": {},
   "outputs": [],
   "source": [
    "# take three numbers and print the avg statement using format and f string method"
   ]
  },
  {
   "cell_type": "code",
   "execution_count": 8,
   "id": "5dfb7f11-e34c-4189-9b5a-626f9cc73e65",
   "metadata": {},
   "outputs": [
    {
     "name": "stdout",
     "output_type": "stream",
     "text": [
      "the average of 10, 20 & 30 is 20.0\n",
      "the average of10, 20 & 30 is 20.0\n"
     ]
    }
   ],
   "source": [
    "n1=10\n",
    "n2=20\n",
    "n3=30\n",
    "avg=(n1+n2+n3)/3\n",
    "print(\"the average of {}, {} & {} is {}\".format(n1,n2,n3,avg))\n",
    "print(f\"the average of{n1}, {n2} & {n3} is {avg}\")"
   ]
  },
  {
   "cell_type": "code",
   "execution_count": null,
   "id": "5c023767-2521-4915-ae08-50ed11cc2147",
   "metadata": {},
   "outputs": [],
   "source": []
  },
  {
   "cell_type": "code",
   "execution_count": null,
   "id": "aabf886d-3bab-4483-8ff2-75ebe05fc4af",
   "metadata": {},
   "outputs": [],
   "source": []
  }
 ],
 "metadata": {
  "kernelspec": {
   "display_name": "Python 3 (ipykernel)",
   "language": "python",
   "name": "python3"
  },
  "language_info": {
   "codemirror_mode": {
    "name": "ipython",
    "version": 3
   },
   "file_extension": ".py",
   "mimetype": "text/x-python",
   "name": "python",
   "nbconvert_exporter": "python",
   "pygments_lexer": "ipython3",
   "version": "3.12.4"
  }
 },
 "nbformat": 4,
 "nbformat_minor": 5
}
