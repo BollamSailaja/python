{
 "cells": [
  {
   "cell_type": "markdown",
   "id": "0bbe5c8f-5fd8-4f10-b9be-d869bb33031c",
   "metadata": {},
   "source": [
    "- integer=== int\n",
    "\n",
    "- float====float\n",
    "\n",
    "- string====str\n",
    "\n",
    "- boolean====bool\n"
   ]
  },
  {
   "cell_type": "markdown",
   "id": "9c4d2b5d-cc8e-4d70-87ea-48a1eb744cd9",
   "metadata": {},
   "source": [
    "**Integer to other data types**"
   ]
  },
  {
   "cell_type": "code",
   "execution_count": null,
   "id": "414d3789-384d-4240-911c-bcb28d2b7d78",
   "metadata": {},
   "outputs": [],
   "source": [
    "num1=100\n",
    "type(num1)"
   ]
  },
  {
   "cell_type": "code",
   "execution_count": 2,
   "id": "f870213a-b67d-4ee0-be87-73fd53257ca1",
   "metadata": {},
   "outputs": [
    {
     "data": {
      "text/plain": [
       "100.0"
      ]
     },
     "execution_count": 2,
     "metadata": {},
     "output_type": "execute_result"
    }
   ],
   "source": [
    "float(num1)"
   ]
  },
  {
   "cell_type": "code",
   "execution_count": 3,
   "id": "f783163c-967a-4c64-a062-7b7c29a720bf",
   "metadata": {},
   "outputs": [
    {
     "data": {
      "text/plain": [
       "100.0"
      ]
     },
     "execution_count": 3,
     "metadata": {},
     "output_type": "execute_result"
    }
   ],
   "source": [
    "num_float=float(num1)\n",
    "num_float"
   ]
  },
  {
   "cell_type": "code",
   "execution_count": 4,
   "id": "6d1d20c2-97ed-40bb-b9ff-85e066adfa8b",
   "metadata": {},
   "outputs": [
    {
     "data": {
      "text/plain": [
       "float"
      ]
     },
     "execution_count": 4,
     "metadata": {},
     "output_type": "execute_result"
    }
   ],
   "source": [
    "type(num_float)"
   ]
  },
  {
   "cell_type": "code",
   "execution_count": 3,
   "id": "fa364483-ccdd-41a1-bfdf-1381cea1f506",
   "metadata": {},
   "outputs": [
    {
     "data": {
      "text/plain": [
       "10"
      ]
     },
     "execution_count": 3,
     "metadata": {},
     "output_type": "execute_result"
    }
   ],
   "source": [
    "naresh"
   ]
  },
  {
   "cell_type": "code",
   "execution_count": 2,
   "id": "25ec8d7b-88a5-4032-9f01-92aa7a4604cb",
   "metadata": {},
   "outputs": [],
   "source": []
  },
  {
   "cell_type": "markdown",
   "id": "0d9cb2f8-4bcc-4794-81b2-82b453ad0e66",
   "metadata": {},
   "source": [
    "**Name Error**\n",
    "\n",
    "- whenever if we see name error that corresponding variable is not initialized\n",
    "\n",
    "- for example in above naresh is a variable\n",
    "\n",
    "- It is not defined before, thats why we are getting error\n",
    "\n",
    "- So go above the lines and search for variable naresh\n",
    "\n",
    "- if you feel that its already defined then run again"
   ]
  },
  {
   "cell_type": "markdown",
   "id": "9dd68d87-46ba-406d-a551-be6bece24c6b",
   "metadata": {},
   "source": [
    "- num1 is a variable stored value:100\n",
    "\n",
    "- num1 is a integer type\n",
    "\n",
    "- to convert float, float(num1)\n",
    "\n",
    "- float(num1) gives 100.0\n",
    "\n",
    "- float(num1) stored in a variable: num_float\n",
    "\n",
    "- num_float is float type"
   ]
  },
  {
   "cell_type": "markdown",
   "id": "e9650e58-7e38-4dbd-9570-da2eb107d2b9",
   "metadata": {},
   "source": [
    "**Integer to string convertion**"
   ]
  },
  {
   "cell_type": "code",
   "execution_count": 9,
   "id": "ddfe0e29-23e7-4ecf-88a5-917355f385e5",
   "metadata": {},
   "outputs": [
    {
     "data": {
      "text/plain": [
       "'100'"
      ]
     },
     "execution_count": 9,
     "metadata": {},
     "output_type": "execute_result"
    }
   ],
   "source": [
    "num1=100\n",
    "str(num1)"
   ]
  },
  {
   "cell_type": "code",
   "execution_count": 10,
   "id": "3fbcd724-ad5c-4785-a3f7-9f555829567e",
   "metadata": {},
   "outputs": [
    {
     "data": {
      "text/plain": [
       "'100'"
      ]
     },
     "execution_count": 10,
     "metadata": {},
     "output_type": "execute_result"
    }
   ],
   "source": [
    "num_string=str(num1)\n",
    "num_string"
   ]
  },
  {
   "cell_type": "code",
   "execution_count": 11,
   "id": "29e1c039-7468-406c-867a-7b9ab1188444",
   "metadata": {},
   "outputs": [
    {
     "data": {
      "text/plain": [
       "str"
      ]
     },
     "execution_count": 11,
     "metadata": {},
     "output_type": "execute_result"
    }
   ],
   "source": [
    "type(num_string)"
   ]
  },
  {
   "cell_type": "code",
   "execution_count": 12,
   "id": "30b1d9e5-ff66-4067-b21a-565c661ca0a1",
   "metadata": {},
   "outputs": [
    {
     "data": {
      "text/plain": [
       "True"
      ]
     },
     "execution_count": 12,
     "metadata": {},
     "output_type": "execute_result"
    }
   ],
   "source": [
    "#integer to boolean\n",
    "num1=100\n",
    "bool(num1)"
   ]
  },
  {
   "cell_type": "code",
   "execution_count": 14,
   "id": "9a4d7cf4-2d5d-4ae3-b115-09bf7e32083e",
   "metadata": {},
   "outputs": [
    {
     "data": {
      "text/plain": [
       "True"
      ]
     },
     "execution_count": 14,
     "metadata": {},
     "output_type": "execute_result"
    }
   ],
   "source": [
    "num_boolean=bool(num1)\n",
    "num_boolean"
   ]
  },
  {
   "cell_type": "code",
   "execution_count": 15,
   "id": "18f7e674-11b6-41fd-b2f4-5159c4237357",
   "metadata": {},
   "outputs": [
    {
     "data": {
      "text/plain": [
       "bool"
      ]
     },
     "execution_count": 15,
     "metadata": {},
     "output_type": "execute_result"
    }
   ],
   "source": [
    "type(num_boolean)"
   ]
  },
  {
   "cell_type": "code",
   "execution_count": 18,
   "id": "c31c81ef-696c-496f-b4e3-ecb2aeca1393",
   "metadata": {},
   "outputs": [
    {
     "data": {
      "text/plain": [
       "True"
      ]
     },
     "execution_count": 18,
     "metadata": {},
     "output_type": "execute_result"
    }
   ],
   "source": [
    "num2=-100\n",
    "bool(num2)\n",
    "num_boolean=bool(num2)\n",
    "num_boolean"
   ]
  },
  {
   "cell_type": "code",
   "execution_count": 19,
   "id": "ad55da31-fc18-491f-9e47-c30b831145d7",
   "metadata": {},
   "outputs": [
    {
     "data": {
      "text/plain": [
       "False"
      ]
     },
     "execution_count": 19,
     "metadata": {},
     "output_type": "execute_result"
    }
   ],
   "source": [
    "num3=0\n",
    "bool(num3)\n",
    "num_boolean=bool(num3)\n",
    "num_boolean"
   ]
  },
  {
   "cell_type": "markdown",
   "id": "21ed6521-a579-483c-ad99-886693735256",
   "metadata": {},
   "source": [
    "**NOTE**\n",
    "\n",
    "- when boolean convertion of integers gives false\n",
    "\n",
    "    - for 0 value it gives false\n"
   ]
  },
  {
   "cell_type": "code",
   "execution_count": 20,
   "id": "e49fd927-20e2-4151-8c77-21cd3d8e2328",
   "metadata": {},
   "outputs": [
    {
     "data": {
      "text/plain": [
       "(100.0, '100', True)"
      ]
     },
     "execution_count": 20,
     "metadata": {},
     "output_type": "execute_result"
    }
   ],
   "source": [
    "num1=100\n",
    "num1_float=float(num1)\n",
    "num1_str=str(num1)\n",
    "num1_bool=bool(num1)\n",
    "num1_float, num1_str, num1_bool"
   ]
  },
  {
   "cell_type": "code",
   "execution_count": 21,
   "id": "4a6147de-f85d-4af0-bc6b-bf06becbc4da",
   "metadata": {},
   "outputs": [
    {
     "data": {
      "text/plain": [
       "(1000.0, '1000', True)"
      ]
     },
     "execution_count": 21,
     "metadata": {},
     "output_type": "execute_result"
    }
   ],
   "source": [
    "float(1000), str(1000), bool(1000)"
   ]
  },
  {
   "cell_type": "markdown",
   "id": "ba2c1e71-f9b9-422b-b94a-8d7600609178",
   "metadata": {},
   "source": [
    "**Float to other data types**"
   ]
  },
  {
   "cell_type": "code",
   "execution_count": 22,
   "id": "53308ffb-9475-4b42-8177-6b412faefdcf",
   "metadata": {},
   "outputs": [
    {
     "data": {
      "text/plain": [
       "(100, '100.675', True)"
      ]
     },
     "execution_count": 22,
     "metadata": {},
     "output_type": "execute_result"
    }
   ],
   "source": [
    "num1=100.675\n",
    "num1_int=int(num1)\n",
    "num1_str=str(num1)\n",
    "num1_bool=bool(num1)\n",
    "num1_int, num1_str, num1_bool"
   ]
  },
  {
   "cell_type": "markdown",
   "id": "42268cde-51a6-4085-8780-abf0ce04dc2c",
   "metadata": {},
   "source": [
    "**MISTAKES**\n",
    "\n",
    "- first mistake - conversion\n",
    "\n",
    "- printing the string value\n",
    "\n",
    "- providing gaps"
   ]
  },
  {
   "cell_type": "code",
   "execution_count": 26,
   "id": "ef15ed57-a376-44e8-8455-3dd8825f0032",
   "metadata": {},
   "outputs": [
    {
     "data": {
      "text/plain": [
       "(0, '0.0', False)"
      ]
     },
     "execution_count": 26,
     "metadata": {},
     "output_type": "execute_result"
    }
   ],
   "source": [
    "num1=0.0\n",
    "num1_int=int(num1)\n",
    "num1_str=str(num1)\n",
    "num1_bool=bool(num1)\n",
    "num1_int, num1_str, num1_bool"
   ]
  },
  {
   "cell_type": "markdown",
   "id": "712bda54-aff5-4e74-8d43-ea0f3932af21",
   "metadata": {},
   "source": [
    "**string to other data types**"
   ]
  },
  {
   "cell_type": "code",
   "execution_count": 27,
   "id": "fc080a24-555b-4412-a555-baa1ea6152b6",
   "metadata": {},
   "outputs": [
    {
     "ename": "ValueError",
     "evalue": "invalid literal for int() with base 10: 'apple'",
     "output_type": "error",
     "traceback": [
      "\u001b[1;31m---------------------------------------------------------------------------\u001b[0m",
      "\u001b[1;31mValueError\u001b[0m                                Traceback (most recent call last)",
      "Cell \u001b[1;32mIn[27], line 2\u001b[0m\n\u001b[0;32m      1\u001b[0m \u001b[38;5;28mstr\u001b[39m\u001b[38;5;241m=\u001b[39m\u001b[38;5;124m'\u001b[39m\u001b[38;5;124mapple\u001b[39m\u001b[38;5;124m'\u001b[39m\n\u001b[1;32m----> 2\u001b[0m \u001b[38;5;28mint\u001b[39m(\u001b[38;5;28mstr\u001b[39m)\n",
      "\u001b[1;31mValueError\u001b[0m: invalid literal for int() with base 10: 'apple'"
     ]
    }
   ],
   "source": [
    "str='apple'\n",
    "int(str)"
   ]
  },
  {
   "cell_type": "code",
   "execution_count": 28,
   "id": "d661681d-828a-4916-93ea-bdd01864a37e",
   "metadata": {},
   "outputs": [
    {
     "ename": "ValueError",
     "evalue": "could not convert string to float: 'apple'",
     "output_type": "error",
     "traceback": [
      "\u001b[1;31m---------------------------------------------------------------------------\u001b[0m",
      "\u001b[1;31mValueError\u001b[0m                                Traceback (most recent call last)",
      "Cell \u001b[1;32mIn[28], line 1\u001b[0m\n\u001b[1;32m----> 1\u001b[0m \u001b[38;5;28mfloat\u001b[39m(\u001b[38;5;28mstr\u001b[39m)\n",
      "\u001b[1;31mValueError\u001b[0m: could not convert string to float: 'apple'"
     ]
    }
   ],
   "source": [
    "float(str)"
   ]
  },
  {
   "cell_type": "code",
   "execution_count": 29,
   "id": "7950c8c6-d478-4ff5-bb25-9b5c6452dcfb",
   "metadata": {},
   "outputs": [
    {
     "data": {
      "text/plain": [
       "True"
      ]
     },
     "execution_count": 29,
     "metadata": {},
     "output_type": "execute_result"
    }
   ],
   "source": [
    "bool(str)"
   ]
  },
  {
   "cell_type": "code",
   "execution_count": 4,
   "id": "a2fa8732-9866-4a14-a293-f8676d729264",
   "metadata": {},
   "outputs": [
    {
     "ename": "ValueError",
     "evalue": "invalid literal for int() with base 10: 'apple 123'",
     "output_type": "error",
     "traceback": [
      "\u001b[1;31m---------------------------------------------------------------------------\u001b[0m",
      "\u001b[1;31mValueError\u001b[0m                                Traceback (most recent call last)",
      "Cell \u001b[1;32mIn[4], line 3\u001b[0m\n\u001b[0;32m      1\u001b[0m \u001b[38;5;66;03m# case 2\u001b[39;00m\n\u001b[0;32m      2\u001b[0m \u001b[38;5;28mstr\u001b[39m\u001b[38;5;241m=\u001b[39m\u001b[38;5;124m'\u001b[39m\u001b[38;5;124mapple 123\u001b[39m\u001b[38;5;124m'\u001b[39m\n\u001b[1;32m----> 3\u001b[0m \u001b[38;5;28mint\u001b[39m(\u001b[38;5;28mstr\u001b[39m)\n",
      "\u001b[1;31mValueError\u001b[0m: invalid literal for int() with base 10: 'apple 123'"
     ]
    }
   ],
   "source": [
    "# case 2\n",
    "str='apple 123'\n",
    "int(str)"
   ]
  },
  {
   "cell_type": "code",
   "execution_count": 5,
   "id": "ed467828-a3f4-44b8-b209-5fe76bcc45db",
   "metadata": {},
   "outputs": [
    {
     "ename": "ValueError",
     "evalue": "could not convert string to float: 'apple 123'",
     "output_type": "error",
     "traceback": [
      "\u001b[1;31m---------------------------------------------------------------------------\u001b[0m",
      "\u001b[1;31mValueError\u001b[0m                                Traceback (most recent call last)",
      "Cell \u001b[1;32mIn[5], line 1\u001b[0m\n\u001b[1;32m----> 1\u001b[0m \u001b[38;5;28mfloat\u001b[39m(\u001b[38;5;28mstr\u001b[39m)\n",
      "\u001b[1;31mValueError\u001b[0m: could not convert string to float: 'apple 123'"
     ]
    }
   ],
   "source": [
    "float(str)"
   ]
  },
  {
   "cell_type": "code",
   "execution_count": 6,
   "id": "cc2a2c27-806e-4002-8128-ddb2503f1c73",
   "metadata": {},
   "outputs": [
    {
     "data": {
      "text/plain": [
       "True"
      ]
     },
     "execution_count": 6,
     "metadata": {},
     "output_type": "execute_result"
    }
   ],
   "source": [
    "bool(str)"
   ]
  },
  {
   "cell_type": "code",
   "execution_count": 31,
   "id": "13ff0a03-b2ad-44de-80a1-3c78edcc7d62",
   "metadata": {},
   "outputs": [
    {
     "data": {
      "text/plain": [
       "0"
      ]
     },
     "execution_count": 31,
     "metadata": {},
     "output_type": "execute_result"
    }
   ],
   "source": [
    "#case 3\n",
    "str='0'\n",
    "int(str)"
   ]
  },
  {
   "cell_type": "code",
   "execution_count": 32,
   "id": "b8f194aa-683b-4320-bab1-1537562b3e8d",
   "metadata": {},
   "outputs": [
    {
     "data": {
      "text/plain": [
       "0.0"
      ]
     },
     "execution_count": 32,
     "metadata": {},
     "output_type": "execute_result"
    }
   ],
   "source": [
    "float(str)"
   ]
  },
  {
   "cell_type": "code",
   "execution_count": 33,
   "id": "7273fa48-0c39-4576-8da7-c106f43d1445",
   "metadata": {},
   "outputs": [
    {
     "data": {
      "text/plain": [
       "True"
      ]
     },
     "execution_count": 33,
     "metadata": {},
     "output_type": "execute_result"
    }
   ],
   "source": [
    "bool(str)"
   ]
  },
  {
   "cell_type": "code",
   "execution_count": 35,
   "id": "9ca0b088-a8d0-4a40-be9b-0d8a3232df0b",
   "metadata": {},
   "outputs": [
    {
     "ename": "ValueError",
     "evalue": "invalid literal for int() with base 10: 'apple123'",
     "output_type": "error",
     "traceback": [
      "\u001b[1;31m---------------------------------------------------------------------------\u001b[0m",
      "\u001b[1;31mValueError\u001b[0m                                Traceback (most recent call last)",
      "Cell \u001b[1;32mIn[35], line 2\u001b[0m\n\u001b[0;32m      1\u001b[0m \u001b[38;5;28mstr\u001b[39m\u001b[38;5;241m=\u001b[39m\u001b[38;5;124m'\u001b[39m\u001b[38;5;124mapple123\u001b[39m\u001b[38;5;124m'\u001b[39m\n\u001b[1;32m----> 2\u001b[0m \u001b[38;5;28mint\u001b[39m(\u001b[38;5;28mstr\u001b[39m)\n",
      "\u001b[1;31mValueError\u001b[0m: invalid literal for int() with base 10: 'apple123'"
     ]
    }
   ],
   "source": [
    "str='apple123'\n",
    "int(str)"
   ]
  },
  {
   "cell_type": "code",
   "execution_count": 7,
   "id": "c5cef785-cd8e-4d6b-aaa7-74bd73b8572e",
   "metadata": {},
   "outputs": [
    {
     "ename": "ValueError",
     "evalue": "invalid literal for int() with base 10: ''",
     "output_type": "error",
     "traceback": [
      "\u001b[1;31m---------------------------------------------------------------------------\u001b[0m",
      "\u001b[1;31mValueError\u001b[0m                                Traceback (most recent call last)",
      "Cell \u001b[1;32mIn[7], line 3\u001b[0m\n\u001b[0;32m      1\u001b[0m \u001b[38;5;66;03m#case 4:\u001b[39;00m\n\u001b[0;32m      2\u001b[0m \u001b[38;5;28mstr\u001b[39m\u001b[38;5;241m=\u001b[39m\u001b[38;5;124m'\u001b[39m\u001b[38;5;124m'\u001b[39m\n\u001b[1;32m----> 3\u001b[0m \u001b[38;5;28mint\u001b[39m(\u001b[38;5;124m'\u001b[39m\u001b[38;5;124m'\u001b[39m)\n",
      "\u001b[1;31mValueError\u001b[0m: invalid literal for int() with base 10: ''"
     ]
    }
   ],
   "source": [
    "#case 4:\n",
    "str=''\n",
    "int('')\n"
   ]
  },
  {
   "cell_type": "code",
   "execution_count": 8,
   "id": "12e74c09-da72-4853-a9df-b1608ba73191",
   "metadata": {},
   "outputs": [
    {
     "ename": "ValueError",
     "evalue": "could not convert string to float: ''",
     "output_type": "error",
     "traceback": [
      "\u001b[1;31m---------------------------------------------------------------------------\u001b[0m",
      "\u001b[1;31mValueError\u001b[0m                                Traceback (most recent call last)",
      "Cell \u001b[1;32mIn[8], line 1\u001b[0m\n\u001b[1;32m----> 1\u001b[0m \u001b[38;5;28mfloat\u001b[39m(\u001b[38;5;124m'\u001b[39m\u001b[38;5;124m'\u001b[39m)\n",
      "\u001b[1;31mValueError\u001b[0m: could not convert string to float: ''"
     ]
    }
   ],
   "source": [
    "float('')"
   ]
  },
  {
   "cell_type": "code",
   "execution_count": 10,
   "id": "8c3f2b6e-223e-4087-b550-7e1c9318668d",
   "metadata": {},
   "outputs": [
    {
     "data": {
      "text/plain": [
       "False"
      ]
     },
     "execution_count": 10,
     "metadata": {},
     "output_type": "execute_result"
    }
   ],
   "source": [
    "bool('')"
   ]
  },
  {
   "cell_type": "code",
   "execution_count": 37,
   "id": "e3047206-28dd-41df-8abb-f11656124d60",
   "metadata": {},
   "outputs": [
    {
     "data": {
      "text/plain": [
       "True"
      ]
     },
     "execution_count": 37,
     "metadata": {},
     "output_type": "execute_result"
    }
   ],
   "source": [
    "#case-5:\n",
    "str='10'\n",
    "int('10')\n",
    "float('10')\n",
    "bool('10')"
   ]
  },
  {
   "cell_type": "code",
   "execution_count": 38,
   "id": "4197c4db-2f04-40ad-85ec-0a7e1b6f2c57",
   "metadata": {},
   "outputs": [
    {
     "data": {
      "text/plain": [
       "10"
      ]
     },
     "execution_count": 38,
     "metadata": {},
     "output_type": "execute_result"
    }
   ],
   "source": [
    "int('10')\n"
   ]
  },
  {
   "cell_type": "code",
   "execution_count": 39,
   "id": "b3f01626-00c0-47e4-b243-2abaef51af20",
   "metadata": {},
   "outputs": [
    {
     "data": {
      "text/plain": [
       "10.0"
      ]
     },
     "execution_count": 39,
     "metadata": {},
     "output_type": "execute_result"
    }
   ],
   "source": [
    "float('10')"
   ]
  },
  {
   "cell_type": "code",
   "execution_count": 41,
   "id": "9f147b36-dc5f-4830-a32b-711cd548d5d3",
   "metadata": {},
   "outputs": [
    {
     "ename": "ValueError",
     "evalue": "invalid literal for int() with base 10: 'apple123'",
     "output_type": "error",
     "traceback": [
      "\u001b[1;31m---------------------------------------------------------------------------\u001b[0m",
      "\u001b[1;31mValueError\u001b[0m                                Traceback (most recent call last)",
      "Cell \u001b[1;32mIn[41], line 1\u001b[0m\n\u001b[1;32m----> 1\u001b[0m \u001b[38;5;28mint\u001b[39m(\u001b[38;5;124m'\u001b[39m\u001b[38;5;124mapple123\u001b[39m\u001b[38;5;124m'\u001b[39m)\n",
      "\u001b[1;31mValueError\u001b[0m: invalid literal for int() with base 10: 'apple123'"
     ]
    }
   ],
   "source": [
    "int('apple123')"
   ]
  },
  {
   "cell_type": "code",
   "execution_count": 42,
   "id": "87ef5b00-f028-4e47-b53b-e1ea6e13a934",
   "metadata": {},
   "outputs": [
    {
     "ename": "ValueError",
     "evalue": "invalid literal for int() with base 10: '10.5'",
     "output_type": "error",
     "traceback": [
      "\u001b[1;31m---------------------------------------------------------------------------\u001b[0m",
      "\u001b[1;31mValueError\u001b[0m                                Traceback (most recent call last)",
      "Cell \u001b[1;32mIn[42], line 1\u001b[0m\n\u001b[1;32m----> 1\u001b[0m \u001b[38;5;28mint\u001b[39m(\u001b[38;5;124m'\u001b[39m\u001b[38;5;124m10.5\u001b[39m\u001b[38;5;124m'\u001b[39m)\n",
      "\u001b[1;31mValueError\u001b[0m: invalid literal for int() with base 10: '10.5'"
     ]
    }
   ],
   "source": [
    "int('10.5')"
   ]
  },
  {
   "cell_type": "code",
   "execution_count": 43,
   "id": "5aa7dee0-7c71-440a-b94b-0dce0f964b88",
   "metadata": {},
   "outputs": [
    {
     "data": {
      "text/plain": [
       "10.5"
      ]
     },
     "execution_count": 43,
     "metadata": {},
     "output_type": "execute_result"
    }
   ],
   "source": [
    "float('10.5')"
   ]
  },
  {
   "cell_type": "code",
   "execution_count": 44,
   "id": "7bea4c88-a658-4d0e-9a81-f109ad0911e0",
   "metadata": {},
   "outputs": [
    {
     "data": {
      "text/plain": [
       "True"
      ]
     },
     "execution_count": 44,
     "metadata": {},
     "output_type": "execute_result"
    }
   ],
   "source": [
    "bool('10.5')"
   ]
  },
  {
   "cell_type": "markdown",
   "id": "2ce75089-97be-4b66-9e0f-f5e016ce773d",
   "metadata": {},
   "source": [
    "- english letters as srting representation\n",
    "\n",
    "      - apple\n",
    "\n",
    "          - int convertion fail\n",
    "\n",
    "          - float convertion fail\n",
    "\n",
    "          - boolean convertion true\n",
    "\n",
    "- english letter with number as a string representation\n",
    "\n",
    "      - apple123\n",
    "\n",
    "          - int convertion fail\n",
    "\n",
    "          - float convertion fail\n",
    "\n",
    "          - boolean convertion true\n",
    "\n",
    "- 0 as string representation\n",
    "\n",
    "    - int convertion gives 0\n",
    " \n",
    "    - float convertion gives 0.0\n",
    " \n",
    "    - boolean convertion gives true\n",
    "\n",
    "- empty as empty string representation\n",
    "\n",
    "    - int convertion fails\n",
    " \n",
    "    - float convertion fails\n",
    " \n",
    "    - boolean convertion gives false\n",
    "\n",
    "- 10 as string representation\n",
    "\n",
    "    - int convertion gives 10\n",
    "\n",
    "\n",
    "    - float convertion gives 10.0\n",
    " \n",
    "    - boolean convertion gives true\n",
    "\n",
    "- 10.5 as string representation\n",
    "\n",
    "    - int convertion fails\n",
    " \n",
    "    - float convertion gives 10.5\n",
    " \n",
    "    - boolean convertion gives true\n"
   ]
  },
  {
   "cell_type": "code",
   "execution_count": 45,
   "id": "b16ec491-a82a-4f38-a232-69de5ffaedca",
   "metadata": {},
   "outputs": [
    {
     "data": {
      "text/plain": [
       "10"
      ]
     },
     "execution_count": 45,
     "metadata": {},
     "output_type": "execute_result"
    }
   ],
   "source": [
    "int('10')"
   ]
  },
  {
   "cell_type": "code",
   "execution_count": 46,
   "id": "6e6338b8-358c-4474-8f6c-4bc5acdff561",
   "metadata": {},
   "outputs": [
    {
     "data": {
      "text/plain": [
       "10.5"
      ]
     },
     "execution_count": 46,
     "metadata": {},
     "output_type": "execute_result"
    }
   ],
   "source": [
    "float(10.5)"
   ]
  },
  {
   "cell_type": "markdown",
   "id": "33069e26-8775-4b85-8127-e3cdeb885b22",
   "metadata": {},
   "source": [
    "\n",
    "**Float is the boss**\n",
    "\n",
    "float(10)\n",
    "\n",
    "float(10.5)\n",
    "\n",
    "**integer will work only int family** \n",
    "\n",
    "int('10')\n",
    "\n",
    "int('10.5') #error\n",
    "\n",
    "\n",
    "- Boolean conversion of empty string gives false\n",
    "\n",
    "- Otherwise true"
   ]
  },
  {
   "cell_type": "code",
   "execution_count": 48,
   "id": "02b42743-9d17-4cc5-b92a-8af085b471b5",
   "metadata": {},
   "outputs": [
    {
     "data": {
      "text/plain": [
       "(False, True)"
      ]
     },
     "execution_count": 48,
     "metadata": {},
     "output_type": "execute_result"
    }
   ],
   "source": [
    "bool(''), bool(' ')"
   ]
  },
  {
   "cell_type": "code",
   "execution_count": 51,
   "id": "ccb3f1e3-63fc-4b88-8f0f-359bc24ba0ee",
   "metadata": {},
   "outputs": [
    {
     "data": {
      "text/plain": [
       "0"
      ]
     },
     "execution_count": 51,
     "metadata": {},
     "output_type": "execute_result"
    }
   ],
   "source": [
    "len('')"
   ]
  },
  {
   "cell_type": "code",
   "execution_count": 52,
   "id": "f84f9846-ea5d-4e74-8d6f-aac7860492ab",
   "metadata": {},
   "outputs": [
    {
     "data": {
      "text/plain": [
       "(2, 8)"
      ]
     },
     "execution_count": 52,
     "metadata": {},
     "output_type": "execute_result"
    }
   ],
   "source": [
    "len('  '), len('        ')"
   ]
  },
  {
   "cell_type": "code",
   "execution_count": 53,
   "id": "8eef267d-3a00-4241-ab13-a81417c528d4",
   "metadata": {},
   "outputs": [
    {
     "data": {
      "text/plain": [
       "True"
      ]
     },
     "execution_count": 53,
     "metadata": {},
     "output_type": "execute_result"
    }
   ],
   "source": [
    "bool(10)\n"
   ]
  },
  {
   "cell_type": "code",
   "execution_count": 54,
   "id": "973cde5f-dbaf-4d33-acff-a3a5b249db86",
   "metadata": {},
   "outputs": [
    {
     "data": {
      "text/plain": [
       "True"
      ]
     },
     "execution_count": 54,
     "metadata": {},
     "output_type": "execute_result"
    }
   ],
   "source": [
    "bool(10.5)"
   ]
  },
  {
   "cell_type": "code",
   "execution_count": 55,
   "id": "029305bd-8513-4ee0-8bda-8ef88695376d",
   "metadata": {},
   "outputs": [
    {
     "data": {
      "text/plain": [
       "True"
      ]
     },
     "execution_count": 55,
     "metadata": {},
     "output_type": "execute_result"
    }
   ],
   "source": [
    "bool('apple')"
   ]
  },
  {
   "cell_type": "code",
   "execution_count": 62,
   "id": "da88552e-1b61-4151-9b1d-eb6140b617b4",
   "metadata": {},
   "outputs": [
    {
     "data": {
      "text/plain": [
       "1"
      ]
     },
     "execution_count": 62,
     "metadata": {},
     "output_type": "execute_result"
    }
   ],
   "source": [
    "int(True)"
   ]
  },
  {
   "cell_type": "code",
   "execution_count": 63,
   "id": "e132fdfa-c3bb-47f8-8631-547eaf06789e",
   "metadata": {},
   "outputs": [
    {
     "data": {
      "text/plain": [
       "1.0"
      ]
     },
     "execution_count": 63,
     "metadata": {},
     "output_type": "execute_result"
    }
   ],
   "source": [
    "float(True)"
   ]
  },
  {
   "cell_type": "code",
   "execution_count": 65,
   "id": "bbb57b72-52e3-4ad6-8c6e-ee2f8690d2d4",
   "metadata": {},
   "outputs": [
    {
     "ename": "TypeError",
     "evalue": "'str' object is not callable",
     "output_type": "error",
     "traceback": [
      "\u001b[1;31m---------------------------------------------------------------------------\u001b[0m",
      "\u001b[1;31mTypeError\u001b[0m                                 Traceback (most recent call last)",
      "Cell \u001b[1;32mIn[65], line 1\u001b[0m\n\u001b[1;32m----> 1\u001b[0m \u001b[38;5;28mstr\u001b[39m(\u001b[38;5;28;01mTrue\u001b[39;00m)\n",
      "\u001b[1;31mTypeError\u001b[0m: 'str' object is not callable"
     ]
    }
   ],
   "source": [
    "str(True)"
   ]
  },
  {
   "cell_type": "code",
   "execution_count": 66,
   "id": "09d48bae-ccc2-4c66-bc8a-c0759c91f82b",
   "metadata": {},
   "outputs": [
    {
     "data": {
      "text/plain": [
       "1"
      ]
     },
     "execution_count": 66,
     "metadata": {},
     "output_type": "execute_result"
    }
   ],
   "source": [
    "bool=True\n",
    "int(bool)"
   ]
  },
  {
   "cell_type": "code",
   "execution_count": 67,
   "id": "6192fdde-9f73-42f1-beb5-496dbef767a4",
   "metadata": {},
   "outputs": [
    {
     "data": {
      "text/plain": [
       "1.0"
      ]
     },
     "execution_count": 67,
     "metadata": {},
     "output_type": "execute_result"
    }
   ],
   "source": [
    "float(bool)"
   ]
  },
  {
   "cell_type": "code",
   "execution_count": 2,
   "id": "4036535c-2409-4e0c-8816-807ec655dfc3",
   "metadata": {},
   "outputs": [
    {
     "data": {
      "text/plain": [
       "\"<class 'bool'>\""
      ]
     },
     "execution_count": 2,
     "metadata": {},
     "output_type": "execute_result"
    }
   ],
   "source": [
    "str(bool)"
   ]
  },
  {
   "cell_type": "code",
   "execution_count": 3,
   "id": "204c9494-7b76-42ad-bda5-989dbc0ec579",
   "metadata": {},
   "outputs": [
    {
     "data": {
      "text/plain": [
       "False"
      ]
     },
     "execution_count": 3,
     "metadata": {},
     "output_type": "execute_result"
    }
   ],
   "source": [
    "bool(False)"
   ]
  },
  {
   "cell_type": "code",
   "execution_count": 4,
   "id": "05c302dd-084d-47e9-94b9-68f875acac22",
   "metadata": {},
   "outputs": [
    {
     "data": {
      "text/plain": [
       "0"
      ]
     },
     "execution_count": 4,
     "metadata": {},
     "output_type": "execute_result"
    }
   ],
   "source": [
    "int(False)"
   ]
  },
  {
   "cell_type": "code",
   "execution_count": 71,
   "id": "6a7ec3fb-abd6-499a-94b2-6e98144d55a0",
   "metadata": {},
   "outputs": [
    {
     "data": {
      "text/plain": [
       "0.0"
      ]
     },
     "execution_count": 71,
     "metadata": {},
     "output_type": "execute_result"
    }
   ],
   "source": [
    "float(False)"
   ]
  },
  {
   "cell_type": "code",
   "execution_count": 1,
   "id": "703118d0-db56-42cb-8243-01c658205baf",
   "metadata": {},
   "outputs": [
    {
     "data": {
      "text/plain": [
       "'True'"
      ]
     },
     "execution_count": 1,
     "metadata": {},
     "output_type": "execute_result"
    }
   ],
   "source": [
    "str(True)"
   ]
  },
  {
   "cell_type": "code",
   "execution_count": null,
   "id": "160fab68-95eb-4a69-befc-29607cf3b974",
   "metadata": {},
   "outputs": [],
   "source": []
  }
 ],
 "metadata": {
  "kernelspec": {
   "display_name": "Python 3 (ipykernel)",
   "language": "python",
   "name": "python3"
  },
  "language_info": {
   "codemirror_mode": {
    "name": "ipython",
    "version": 3
   },
   "file_extension": ".py",
   "mimetype": "text/x-python",
   "name": "python",
   "nbconvert_exporter": "python",
   "pygments_lexer": "ipython3",
   "version": "3.12.4"
  }
 },
 "nbformat": 4,
 "nbformat_minor": 5
}
